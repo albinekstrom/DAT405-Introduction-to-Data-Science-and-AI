{
  "cells": [
    {
      "cell_type": "markdown",
      "metadata": {
        "id": "2t4PZ-4EDDuI"
      },
      "source": [
        "$\\qquad$ $\\qquad$ $\\qquad$  **DAT405 Introduction to Data Science and AI, 2019-2020, Reading Period 3** <br />\n",
        "$\\qquad$ $\\qquad$ $\\qquad$                   **Assignment 5: Reinforcement learning and Classification 2** <br />\n",
        "$\\qquad$ $\\qquad$ $\\qquad$                   **Grader: Newton** <br />\n",
        "$\\qquad$ $\\qquad$ $\\qquad$                     **Due Date: 23rd February, 23:59** <br />\n",
        "$\\qquad$ $\\qquad$ $\\qquad$                   **Submitted by: Pauline Nässlander and Albin Ekström** <br />\n",
        "$\\qquad$ $\\qquad$ $\\qquad$                   **Hours spend: approximately 16 hours each** <br />\n",
        "\n",
        "\n",
        "---\n",
        "\n",
        "\n",
        "General guidelines:\n",
        "*   All solutions to theoretical and pratical problems must be submitted in this ipynb notebook, and equations wherever required, should be formatted using LaTeX math-mode.\n",
        "*   All discussion regarding practical problems, along with solutions and plots should be specified in this notebook. All plots/results should be visible such that the notebook do not have to be run. But the code in the notebook should reproduce the plots/results if we choose to do so.\n",
        "*   Your name, personal number and email address should be specified above.\n",
        "*   All tables and other additional information should be included in this notebook.\n",
        "*   Before submitting, make sure that your code can run on another computer. That all plots can show on another computer including all your writing. It is good to check if your code can run here: https://colab.research.google.com.\n"
      ]
    },
    {
      "cell_type": "markdown",
      "metadata": {
        "id": "UOpsy48tDDuP"
      },
      "source": [
        "Self-check \n",
        "1. Have you answered all questions to the best of your ability? \n",
        "2. Anything else you can easily check? (details, terminology, arguments, commenting for code etc.?) \n",
        "\n",
        "Grading will be based on a qualitative assessment of each assignment. It is important to:\n",
        "*\tPresent clear arguments\n",
        "*\tPresent the results in a pedagogical way\n",
        "*\tShow understanding of the topics (e.g, write a pseudocode) \n",
        "*\tGive correct solutions\n",
        "*\tMake sure that the code is well commented \n",
        "\n",
        "**Again, as mentioned in general guidelines, all code should be written here. And this same ipython notebook file (RLAssignment.ipynb) should be submitted with answers and code written in it. NO SEPERATE FILE SHALL BE ACCEPTED.** \n"
      ]
    },
    {
      "cell_type": "markdown",
      "metadata": {
        "id": "BHM05O6_DDuQ"
      },
      "source": [
        "# Primer\n",
        "\n",
        "## Decision Making\n",
        "The problem of **decision making under uncertainty** (commonly known as **reinforcement learning**) can be broken down into\n",
        "two parts. First, how do we learn about the world? This involves both the\n",
        "problem of modeling our initial uncertainty about the world, and that of drawing conclusions from evidence and our initial belief. Secondly, given what we\n",
        "currently know about the world, how should we decide what to do, taking into\n",
        "account future events and observations that may change our conclusions?\n",
        "Typically, this will involve creating long-term plans covering possible future\n",
        "eventualities. That is, when planning under uncertainty, we also need to take\n",
        "into account what possible future knowledge could be generated when implementing our plans. Intuitively, executing plans which involve trying out new\n",
        "things should give more information, but it is hard to tell whether this information will be beneficial. The choice between doing something which is already\n",
        "known to produce good results and experiment with something new is known\n",
        "as the **exploration-exploitation dilemma**.\n",
        "\n",
        "## The exploration-exploitation trade-off\n",
        "\n",
        "Consider the problem of selecting a restaurant to go to during a vacation.Lets say the\n",
        "best restaurant you have found so far was **Les Epinards**. The food there is\n",
        "usually to your taste and satisfactory. However, a well-known recommendations\n",
        "website suggests that **King’s Arm** is really good! It is tempting to try it out. But\n",
        "there is a risk involved. It may turn out to be much worse than **Les Epinards**,\n",
        "in which case you will regret going there. On the other hand, it could also be\n",
        "much better. What should you do?\n",
        "It all depends on how much information you have about either restaurant,\n",
        "and how many more days you’ll stay in town. If this is your last day, then it’s\n",
        "probably a better idea to go to **Les Epinards**, unless you are expecting **King’s\n",
        "Arm** to be significantly better. However, if you are going to stay there longer,\n",
        "trying out **King’s Arm** is a good bet. If you are lucky, you will be getting much\n",
        "better food for the remaining time, while otherwise you will have missed only\n",
        "one good meal out of many, making the potential risk quite small."
      ]
    },
    {
      "cell_type": "markdown",
      "metadata": {
        "id": "6GmXs-PkDDuR"
      },
      "source": [
        "## Overview\n",
        "* To make things concrete, we will first focus on decision making under **no** uncertainity, i.e, given we have a world model, we can calculate the exact and optimal actions to take in it. We shall first introduce **Markov Decision Process (MDP)** as the world model. Then we give one algorithm (out of many) to solve it.\n",
        "\n",
        "\n",
        "* Next, we will work through one type of reinforcement learning algorithm called Q-learning. Q-learning is an algorithm for making decisions under uncertainity, where uncertainity is over the possible world model (here MDP). It will find the optimal policy for the **unknown** MDP, assuming we do infinite exploration."
      ]
    },
    {
      "cell_type": "markdown",
      "metadata": {
        "id": "9LQw-0PsDDuR"
      },
      "source": [
        "## Markov Decision Process"
      ]
    },
    {
      "cell_type": "markdown",
      "metadata": {
        "id": "SIOb90LBDDuS"
      },
      "source": [
        "Markov Decision Process (MDP) provides a mathematical framework for modeling decision-making. It is a discrete time (distinct points in time) stochastic (randomly determined) process.\n",
        "\n",
        "MDPs are made up of 4 parts:  \n",
        "S: Finite set of states (Ex: s<sub>1</sub>, s<sub>2</sub> ... s<sub>N</sub>)  \n",
        "A: Finite set of actions (Ex: North, South, East, West)  \n",
        "P<sub>a</sub>(s,s'): Probability that action *a* in state *s* at time *t* will lead to state *s'* at time *t + 1*  \n",
        "R<sub>a</sub>(s,s'): Immediate reward received after moving from state *s* to state *s'* by action *a*\n",
        "\n",
        "An agent acts in an MDP at time *t*, by taking certain action *a* in state *s*, going to state *s'*, and getting a reward *r* from the world. It then repeats the process for certain no. of times, either finite or infinite.\n",
        "\n",
        "We also include a $5^{th}$ part in the description of an MDP called Gamma $\\gamma$.  \n",
        "$\\gamma$: The discount factor between 0 (inclusive) and 1 (exclusive). This determines how much credit you want to give to the future. If you think that the future reward is as important as the current reward you would set this to 0.99999. If you don't care about the future rewards you would set this to 0 and you only care about the current reward. For example, if your discount factor is 0.8 and after 5 steps you get a reward of 4 the present value of that reward is $0.8^4 * 5$ or ~2.\n",
        "\n",
        "An MDP is a collection of states such that each state has a selection of actions associated with them. With each state-action pair comes a reward *r* (can be 0). Define a policy function: $\\pi: s \\rightarrow a$, which tells which action to take at each state.\n",
        "  \n",
        "We now use the famous dynamic programming equation, also known as Bellman Equation, to define optimality in an MDP. The following equation defines what we call the **value function** of state *s* following some fixed policy $\\pi$:  \n",
        "\n",
        "$$V^\\pi(s) = \\sum_{s'} P_{\\pi(s)}(s,s') [R_{\\pi(s)}(s,s') + \\gamma V^\\pi(s')]$$\n",
        "\n",
        "We call $V^\\pi$ as the value of policy $\\pi$.  \n",
        "  \n",
        "Now, to find the **optimal** policy you will need to find the action that gives the highest reward.  \n",
        "\n",
        "$$V^*(s) = max_a \\sum_{s'} P_a(s,s') [R_a(s,s') + \\gamma V^*(s')]$$\n",
        "\n",
        "A real world example would be an inventory control system. Your states would be the amount of items you have in stock. Your actions would be the amount to order. The discrete time would be the days of the month. The reward would be the profit.  \n",
        "\n",
        "A major drawback of MDPs is called the \"Curse of Dimensionality\". This states that the more states/actions you have the more computational difficult it is to solve.   \n"
      ]
    },
    {
      "cell_type": "markdown",
      "metadata": {
        "id": "5yXxwngrDDuT"
      },
      "source": [
        "## Question 1 (2 points)"
      ]
    },
    {
      "cell_type": "markdown",
      "metadata": {
        "id": "96hchWS9DDuT"
      },
      "source": [
        "For the first question of the notebook, we give a quick example of an MDP. We would to see if you can put the definitions above into practice.\n",
        "\n",
        "**Question a**: Given the following deterministic MDP (you select North, you move North), what is the optimal policy (path with the most points)?\n",
        "  \n",
        "*Notes*:  \n",
        "  * The number in the box is the reward.  \n",
        "  * Once you hit the end you are done. (Absorbing state)\n",
        "  * S is the starting point.  \n",
        "  * F is the ending point.  \n",
        "  * Use N for North, E for East, S for South, and W for West. Not all actions are available at each state, for example, you can't choose N and W at starting state, as there exists no valid next states in those directions.  \n",
        "  * Pass the directions as a single string. Ex: ESWN will make a circle.  \n",
        "  \n",
        "\n",
        "\n",
        "| | | |\n",
        "|----------|----------|---------|\n",
        "|S|1|1|\n",
        "|1 |0|1|  \n",
        "|-1|-1|0|  \n",
        "|0 |0|F|"
      ]
    },
    {
      "cell_type": "markdown",
      "metadata": {
        "id": "ulnDqRdfDDuU"
      },
      "source": [
        "**Answear a**: SENESSS"
      ]
    },
    {
      "cell_type": "markdown",
      "metadata": {
        "id": "q9Hy3rwmDDuU"
      },
      "source": [
        "Question b,c will attempt to firm up your knowledge of the parts of an MDP. Just remember that for a state denoted by (x,y), state N/E/S/W to that are (x,y-1),(x+1,y),(x,y+1),(x-1,y) respectively. We take (0,0) as the starting state S.\n",
        "\n",
        "**Question b:** What is the probability of going from state (1,0) to state (2,0) using action E ? ( i.e,  $P_E((1,0),(2,0))$ )\n",
        "\n",
        "**Question c:** What is the reward for moving from state (1,0) to state (2,0) ? ( i.e, $R_E((1,0),(2,0))$ )"
      ]
    },
    {
      "cell_type": "markdown",
      "metadata": {
        "id": "ewYmQI-EDDuU"
      },
      "source": [
        "**Answear b**: Since we have a deterministic MDP as stated in question a (we select north, we move north) we get $P_E((1,0),(2,0))$ = 1\n",
        "\n",
        "**Answear c**: The reward $R_E((1,0),(2,0))$ = 1"
      ]
    },
    {
      "cell_type": "markdown",
      "metadata": {
        "id": "KM7hrvMEDDuV"
      },
      "source": [
        "## Value Iteration"
      ]
    },
    {
      "cell_type": "markdown",
      "metadata": {
        "id": "jsoKcZRiDDuV"
      },
      "source": [
        "The value iteration is one algorithm that can be used to find the optimal policy ($\\pi^*$). Note that for any policy $\\pi^*$ to be optimal, it must satisfy the Bellman equation for optimal value function $V^*$. For any candidate $V^*$, it must be such that plugging it in the RHS (right-hand-side) of Bellman equation should give the same $V^*$ again (by the recursive nature of this equation). This property will form the basis of our algorithm. Essentially, due to certain mathematical results, repeated application of RHS to any intial value function $V^0(s)$ will eventually lead to the value $V$ which statifies the Bellman equation. Hence repeated application of Bellman equation for optimal value function will also lead to optimal value function, we can then extract the optimal actions by simply noting the actions that satisfy the equation.    \n",
        "\n",
        "The value function is based on the Bellman Equation for optimal value, which we recall here:  \n",
        "$$V^*(s) = max_a \\sum_{s'} P_a(s,s') [R_a(s,s') + \\gamma V^*(s')]$$"
      ]
    },
    {
      "cell_type": "markdown",
      "metadata": {
        "id": "tdYZK11UDDuW"
      },
      "source": [
        "Example: Below is a 3x3 grid. We are going to walk through a few iterations to firm up your understanding. Lets assume this time that success of taking any action is 0.8. Meaning if we take E from a valid state (x,y), we will go (x+1,y) 0.8 percent of time, but remain in same state the remaining time. We will have a discount factor ($\\gamma$) of 0.9. Assume $V^0(s')=0$ for all s'. \n",
        "\n",
        "| | | |  \n",
        "|----------|----------|---------|  \n",
        "|0|0|0|\n",
        "|0|10|0|  \n",
        "|0|0|0|  \n",
        "\n",
        "\n",
        "**Iteration 1**: It is trivial, V(s) becomes the $max_a \\sum_{s'} P_a(s,s') R_a(s,s')$ since $V^0$ was zero for s'.\n",
        "\n",
        "| | | |  \n",
        "|----------|----------|---------|  \n",
        "|0|8|0|\n",
        "|8|2|8|  \n",
        "|0|8|0|  \n",
        "  \n",
        "**Iteration 2**:  \n",
        "  \n",
        "Staring with cell (0,0): We find the expected value of each move:  \n",
        "Action N: 0  \n",
        "Action E: 0.8( 0 + 0.9 \\* 8) + 0.2(0 + 0.9 \\* 0) = 5.76  \n",
        "Action S: 0.8( 0 + 0.9 \\* 8) + 0.2(0 + 0.9 \\* 0) = 5.76  \n",
        "Action W: 0\n",
        "\n",
        "Hence any action between E and S would have been best at this stage.\n",
        "\n",
        "Similarly for cell (1,0):\n",
        "\n",
        "Action S: 0.8( 10 + 0.9 \\* 2) + 0.2(0 + 0.9 \\* 8) = 10.88 (Action S is the maximizing action)  \n",
        "\n",
        "Similar calculations for remaining cells give us:\n",
        "\n",
        "| | | |  \n",
        "|----------|----------|---------|  \n",
        "|5.76|10.88|5.76|\n",
        "|10.88|8.12|10.88|  \n",
        "|5.76|10.88|5.76|  \n"
      ]
    },
    {
      "cell_type": "markdown",
      "metadata": {
        "id": "ae5LZIkFDDuW"
      },
      "source": [
        "## Question 2 (4 points)\n",
        "Please code the value iteration algorithm just described here, and show the optimal value function of the above 3x3 grid problem at convergence."
      ]
    },
    {
      "cell_type": "markdown",
      "metadata": {
        "id": "0jFRB6uqDDuW"
      },
      "source": [
        "**Answear Q2**:"
      ]
    },
    {
      "cell_type": "code",
      "execution_count": null,
      "metadata": {
        "id": "jg1aBCYaDDuX"
      },
      "outputs": [],
      "source": [
        "import numpy as np"
      ]
    },
    {
      "cell_type": "code",
      "execution_count": null,
      "metadata": {
        "id": "S8vuaLWCDDuY"
      },
      "outputs": [],
      "source": [
        "# defining functions\n",
        "\n",
        "\n",
        "def available_actions(self):\n",
        "    actions = []\n",
        "    \n",
        "    if self[0] - 1 >= 0:\n",
        "        actions.append(((self[0]-1, self[1]), 'W'))\n",
        "    if self[0] + 1 < 3:\n",
        "        actions.append(((self[0]+1, self[1]), 'E'))\n",
        "    if self[1] - 1 >= 0:\n",
        "        actions.append(((self[0], self[1]-1), 'N'))\n",
        "    if self[1] + 1 < 3:\n",
        "        actions.append(((self[0], self[1]+1), 'S'))\n",
        "        \n",
        "    return actions\n",
        "    \n",
        "# return all prob from that move\n",
        "# e.g. it always send: \n",
        "# move: new_state = s', prob = 0.8, reward = reward on new state in matrix\n",
        "# stay: self = s (didn't move), prob = 0.2, reward = reward on same state in matrix\n",
        "def prob_reward(state, new_state, m):\n",
        "    result = []\n",
        "    \n",
        "    result.append((new_state, 0.8, m[new_state[0]][new_state[1]]))\n",
        "    result.append((state, 0.2, m[state[0]][state[1]]))\n",
        "    return result"
      ]
    },
    {
      "cell_type": "code",
      "execution_count": null,
      "metadata": {
        "id": "GCJLMzPCDDuY"
      },
      "outputs": [],
      "source": [
        "def value_iteration(matrix, actions, states):\n",
        "    discount = 0.9 # discount factor given is 0.9\n",
        "    M = len(matrix) # rows\n",
        "    N = len(matrix[0]) # columns\n",
        "    \n",
        "    V = np.zeros((M,N)) # 3x3 matrix of zeros\n",
        "\n",
        "    # sums all prob for given action, IF new state is valid\n",
        "    def S(state, new_state):\n",
        "        return sum(prob * (reward + discount * V[self[1]][self[0]])\n",
        "                    for self, prob, reward in prob_reward(state, new_state, matrix))\n",
        "    \n",
        "    while True:\n",
        "        # update new values (new_V) given old values (V)\n",
        "        new_V = np.zeros((M,N))\n",
        "        for state in states:\n",
        "            # update all states depending for all actions from one state\n",
        "            new_V[state[1]][state[0]] = max(S(state, new_state) for new_state, action in available_actions(state))\n",
        "\n",
        "        # threshold\n",
        "        if max(abs(new_V[state[0]][state[1]] - V[state[0]][state[1]]) for state in states) < 1e-5:\n",
        "            # return policy\n",
        "            pi = np.chararray((M,N), unicode=True)\n",
        "        \n",
        "            for state in states:\n",
        "                pi[state[1]][state[0]] = max((S(state, new_state), action) for new_state, action in available_actions(state))[1]\n",
        "                \n",
        "            return pi, V\n",
        "        \n",
        "        V = new_V\n",
        "        \n",
        "    "
      ]
    },
    {
      "cell_type": "code",
      "execution_count": null,
      "metadata": {
        "id": "SaakedW3DDuY"
      },
      "outputs": [],
      "source": [
        "matrix = [[0, 0, 0],\n",
        "          [0, 10, 0],\n",
        "          [0, 0, 0]]\n",
        "\n",
        "actions = ['N', 'E', 'W', 'S']\n",
        "\n",
        "states = [(0,0), (1,0), (2,0),\n",
        "          (0,1), (1,1), (2,1),\n",
        "          (0,2), (1,2), (2,2)]"
      ]
    },
    {
      "cell_type": "code",
      "execution_count": null,
      "metadata": {
        "id": "OV0SdgMNDDuZ"
      },
      "outputs": [],
      "source": [
        "pi, V = value_iteration(matrix, actions, states)"
      ]
    },
    {
      "cell_type": "code",
      "execution_count": null,
      "metadata": {
        "id": "uIemPEe6DDuZ",
        "outputId": "6112c3d0-6b1c-4416-f1b9-d75730352fba"
      },
      "outputs": [
        {
          "name": "stdout",
          "output_type": "stream",
          "text": [
            "V:\n",
            "[[45.61282832 51.94795661 45.61282832]\n",
            " [51.94795661 48.05185271 51.94795661]\n",
            " [45.61282832 51.94795661 45.61282832]]\n",
            "PI:\n",
            "[['S' 'S' 'W']\n",
            " ['E' 'W' 'W']\n",
            " ['N' 'N' 'W']]\n"
          ]
        }
      ],
      "source": [
        "print('V:')\n",
        "print(V)\n",
        "print('PI:')\n",
        "print(pi)"
      ]
    },
    {
      "cell_type": "markdown",
      "metadata": {
        "id": "hHU44Vs9DDuZ"
      },
      "source": [
        "## Reinforcement Learning (RL)\n",
        "Until now, we understood that knowing the MDP, specifically $P_a(s,s')$ and $R_a(s,s')$ allows us to efficiently find the optimal policy using value iteration algorithm, but RL or decision making under uncertainity arises from the question of making optimal decisions without knowing the true world model (MDP in this case).\n",
        "\n",
        "So far we have defined the value of a state $V^\\pi$, let us define the value of an action, $Q^\\pi$:\n",
        "\n",
        "$$Q^\\pi(s,a) = \\sum_{s'} P_a(s,s') [R_a(s,s') + \\gamma V^\\pi(s')]$$\n",
        "\n",
        "i.e, the value of taking action *a* from state *s* and then following $\\pi$ onwards. Similarly, the optimal Q-value equation is:\n",
        "\n",
        "$$Q^*(s,a) = \\sum_{s'} P_a(s,s') [R_a(s,s') + \\gamma V^*(s')]$$\n",
        "\n",
        "## Q-learning\n",
        "\n",
        "Q-learning algorithm can be used by an agent unaware of its surroundings (unknown MDP). All it can do is take an action *a* at time *t* from state *s* and observe the reward *r* and next state *s'*, and repeat this process again. So how it can learn to act optimally under such uninformative conditions ? Answer is using Q-learning. Without going into its justification, we simply state the main-update rule of this algorithm below:\n",
        "\n",
        "![alt text](https://chalmersuniversity.box.com/shared/static/5anbos4s9luoayb32jk6w3wy3w4jk3g3.png)\n",
        "\n",
        "Where we simply maintain Q(s,a) value for each state-action pair in a table. It is proven to converge to the optimal policy of the underlying unknown MDP for certain values of learning rate $\\alpha$. For our case, we set a constant $\\alpha=0.1$.\n",
        "\n",
        "## OpenAI Gym\n",
        "\n",
        "We shall use already available simulators for different environments (world) using the popular OpenAI Gym library. It just implements [differnt types of simulators](https://gym.openai.com/) including ATARI games. Although here we will only focus on simple ones, such as [Chain enviroment](https://gym.openai.com/envs/NChain-v0/).\n",
        "![alt text](https://chalmersuniversity.box.com/shared/static/6tthbzhpofq9gzlowhr3w8if0xvyxb2b.jpg)\n",
        "\n",
        "## Question 3 (1 point)\n",
        "Basically, there are 5 states, and two actions 'a' and 'b'. Each transition (s,a,s') is noted with its corresponding reward. You are to first familiarize with the framework using its [documentation](http://gym.openai.com/docs/), and then implement the Q-learning algorithm for the Chain enviroment (called 'NChain-v0') using default parameters. Finally print the $Q^*$ table at convergence. Take $\\gamma=0.95$. You can refer to the Q-learning Jupyter notebook shown in class, uploaded on Canvas.\n",
        "\n"
      ]
    },
    {
      "cell_type": "code",
      "execution_count": null,
      "metadata": {
        "id": "pQm0TBgEDDua",
        "outputId": "b61fef54-8e0d-4fb7-99eb-d2cbbd262131"
      },
      "outputs": [
        {
          "data": {
            "text/plain": [
              "0"
            ]
          },
          "execution_count": 43,
          "metadata": {},
          "output_type": "execute_result"
        }
      ],
      "source": [
        "import gym\n",
        "import gym_toytext\n",
        "import random\n",
        "env = gym.make('NChain-v0')\n",
        "env.reset()"
      ]
    },
    {
      "cell_type": "code",
      "execution_count": null,
      "metadata": {
        "id": "PqCgcW7ADDua"
      },
      "outputs": [],
      "source": [
        "def Q_learning(env, num_episodes): #large parts of this method is taken from the given codeexample\n",
        "    Q = np.zeros([5, 2])\n",
        "    learning_rate = 0.1\n",
        "    gamma = 0.95\n",
        "    epsilon = 0.15\n",
        "\n",
        "    for _ in range(num_episodes):\n",
        "        state = env.reset()\n",
        "        done = False\n",
        "\n",
        "        while not done:\n",
        "            # First we select an action:\n",
        "            if random.uniform(0, 1) < epsilon: # Flip a skewed coin\n",
        "                action = env.action_space.sample() # Explore action space\n",
        "            else:\n",
        "                action = np.argmax(Q[state,:]) # Exploit learned values\n",
        "            # Then we perform the action and receive the feedback from the environment\n",
        "            new_state, reward, done, info = env.step(action)\n",
        "            # Finally we learn from the experience by updating the Q-value of the selected action\n",
        "            update = reward + (gamma*np.max(Q[new_state,:])) - Q[state, action]\n",
        "            Q[state,action] += learning_rate*update \n",
        "            state = new_state\n",
        "\n",
        "    return Q"
      ]
    },
    {
      "cell_type": "code",
      "execution_count": null,
      "metadata": {
        "id": "gvMB0xIhDDua",
        "outputId": "37c3a3b7-67ca-4388-c037-da03e29a02fa"
      },
      "outputs": [
        {
          "name": "stdout",
          "output_type": "stream",
          "text": [
            "[[61.95292611 60.67124766]\n",
            " [65.83948326 60.63671227]\n",
            " [70.3142847  64.17385277]\n",
            " [81.4352798  64.50246361]\n",
            " [85.08236383 69.05628681]]\n"
          ]
        }
      ],
      "source": [
        "Q = Q_learning(env, 100)\n",
        "print(Q)"
      ]
    },
    {
      "cell_type": "code",
      "execution_count": null,
      "metadata": {
        "id": "kql5hHesDDua",
        "outputId": "30d0950e-980c-4472-9736-a896340de5e2"
      },
      "outputs": [
        {
          "name": "stdout",
          "output_type": "stream",
          "text": [
            "[[63.38524918 63.25759881]\n",
            " [67.44052062 65.08615869]\n",
            " [72.42758299 66.20164675]\n",
            " [79.06749024 67.69415372]\n",
            " [89.21276939 66.77861605]]\n"
          ]
        }
      ],
      "source": [
        "Q = Q_learning(env, 15000)\n",
        "print(Q)"
      ]
    },
    {
      "cell_type": "markdown",
      "metadata": {
        "id": "EAc0vlqNDDub"
      },
      "source": [
        "## Question 4 (2 points)\n",
        "\n",
        "a. Verify that the optimal $Q^*$ value obtained using Q-learning is same as the optimal value function $V^*$ for the corresponding MDP's optimal action. You would have to first define the MDP corresponding to Chain enviroment.\n",
        "\n",
        "b. What is the importance of exploration in RL ? Explain with an example."
      ]
    },
    {
      "cell_type": "code",
      "execution_count": null,
      "metadata": {
        "id": "PChO5C2-DDub"
      },
      "outputs": [],
      "source": [
        "#create MDP corresponding chain environment\n",
        "class MDP_chain(object):\n",
        "\n",
        "    def __init__(self, array):\n",
        "        self.states = array\n",
        "        self.len = len(array)\n",
        "    \n",
        "    def prob_reward(self, state, action):\n",
        "        result = []\n",
        "    \n",
        "        if action == 'back':\n",
        "            result.append((0, 0.75, 2)) #if we want to go back there is a 75 % chanse we succeed and get reward 2\n",
        "            if state + 1 >= self.len: \n",
        "                result.append((state, 0.25, 10)) #if we are on the last state and want to go back but slips (25% risk) then we recieve reward 10\n",
        "            else:\n",
        "                result.append((state + 1, 0.25, 0)) # we accidently go forward, recieve no reward\n",
        "        else:\n",
        "            result.append((0, 0.25, 2)) \n",
        "            if (state + 1) >= self.len: \n",
        "                result.append((state, 0.75, 10)) \n",
        "            else:\n",
        "                result.append((state + 1, 0.75, 0))\n",
        "                \n",
        "        return result"
      ]
    },
    {
      "cell_type": "code",
      "execution_count": null,
      "metadata": {
        "id": "V__qmVd9DDub"
      },
      "outputs": [],
      "source": [
        "def value_iteration(mdp, epsilon, gamma):\n",
        "    \n",
        "    V = np.zeros((mdp.len,2)) #matrix to store value in\n",
        "\n",
        "    # sums the probebility times reward + discount times privious value of next state for all all possible next states\n",
        "    def S(state, action, i):\n",
        "        return sum(prob * (reward + gamma * V[next_state][i])\n",
        "                    for next_state, prob, reward in mdp.prob_reward(state, action))\n",
        "    \n",
        "    while True:\n",
        "        # update new values (new_V) given old values (V)\n",
        "        new_V = np.zeros((mdp.len,2))\n",
        "        for state in mdp.states:\n",
        "            # update all states depending for all actions from one state\n",
        "            new_V[state][0] = S(state, 'forward', 0) #in the first colomn we only have action forward\n",
        "            new_V[state][1] = S(state, 'back', 1) #in the second colomn we only look at action back\n",
        "\n",
        "        # threshold\n",
        "        if max(abs(new_V[state][0] - V[state][0]) for state in mdp.states) < epsilon and max(abs(new_V[state][1] - V[state][1]) for state in mdp.states) < epsilon:\n",
        "        \n",
        "            return V\n",
        "        \n",
        "        V = new_V\n",
        "        "
      ]
    },
    {
      "cell_type": "code",
      "execution_count": null,
      "metadata": {
        "id": "0OrsELdrDDub"
      },
      "outputs": [],
      "source": [
        "chain = [0,1,2,3,4]\n",
        "epsilon = 1e-10\n",
        "gamma = 0.95\n",
        "chain_mdp = MDP_chain(chain)"
      ]
    },
    {
      "cell_type": "code",
      "execution_count": null,
      "metadata": {
        "id": "j6qXxhKBDDub",
        "outputId": "e2c6102a-826c-4123-827b-d8b93921e7bf"
      },
      "outputs": [
        {
          "data": {
            "text/plain": [
              "array([[48.65723022, 30.15908325],\n",
              "       [51.37001831, 30.19257446],\n",
              "       [55.17744018, 30.33359009],\n",
              "       [60.52119018, 30.92734009],\n",
              "       [68.02119018, 33.42734009]])"
            ]
          },
          "execution_count": 63,
          "metadata": {},
          "output_type": "execute_result"
        }
      ],
      "source": [
        "value_iteration(chain_mdp, epsilon, gamma)"
      ]
    },
    {
      "cell_type": "markdown",
      "metadata": {
        "id": "9dst5mrCDDub"
      },
      "source": [
        "**Answer question 4b:** the exploration in RL is important since this allows you to try out new actions that with some luck can give higher rewards than those you have already tried even though these are more safe cards. If we did not explore in the chain example we eould never reach the last state where we can get reward 10 but always continue going back sinse this is already tested and give a small reward. Therefor exploring is important so we do not miss out on larger rewards."
      ]
    },
    {
      "cell_type": "markdown",
      "metadata": {
        "id": "Wk3obxBHDDuc"
      },
      "source": [
        "## Question 4 (1 point)\n",
        "\n",
        "Briefly discuss the k-armed bandit problem formulation and it's distinguishing feature as a special case of the reinforcement learning problem formulation."
      ]
    },
    {
      "cell_type": "markdown",
      "metadata": {
        "id": "pHgVldXyDDuc"
      },
      "source": [
        "## Note\n",
        "\n",
        "* Until now, we have described algorithms for when no. of states and actions are finite. In coming weeks, you will be taught how to extend these methods to continous state enviroments like ATARI games.\n",
        "\n",
        "# References\n",
        "Primer/text based on the following references:\n",
        "* http://www.cse.chalmers.se/~chrdimi/downloads/book.pdf\n",
        "* https://github.com/olethrosdc/ml-society-science/blob/master/notes.pdf"
      ]
    }
  ],
  "metadata": {
    "kernelspec": {
      "display_name": "Python 3 (ipykernel)",
      "language": "python",
      "name": "python3"
    },
    "language_info": {
      "codemirror_mode": {
        "name": "ipython",
        "version": 3
      },
      "file_extension": ".py",
      "mimetype": "text/x-python",
      "name": "python",
      "nbconvert_exporter": "python",
      "pygments_lexer": "ipython3",
      "version": "3.9.10"
    },
    "colab": {
      "name": "RLAssignment-1.ipynb",
      "provenance": [],
      "collapsed_sections": []
    }
  },
  "nbformat": 4,
  "nbformat_minor": 0
}